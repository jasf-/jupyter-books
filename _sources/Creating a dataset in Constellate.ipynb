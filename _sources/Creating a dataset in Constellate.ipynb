{
 "cells": [
  {
   "cell_type": "markdown",
   "metadata": {},
   "source": [
    "<img align=\"left\" src=\"https://ithaka-labs.s3.amazonaws.com/static-files/images/tdm/tdmdocs/CC_BY.png\"><br/>\n",
    "\n",
    "Created by [Jen Ferguson](https://library.northeastern.edu/about/library-staff-directory/jen-ferguson), based on [the Constellate QuickStart guide](https://constellate.org/docs/user-quick-start) by Amy Kirchhoff of [ITHAKA](https://ithaka.org/). <br />"
   ]
  },
  {
   "cell_type": "markdown",
   "metadata": {},
   "source": [
    "## Building a dataset in Constellate for text analysis\n"
   ]
  },
  {
   "cell_type": "markdown",
   "metadata": {},
   "source": [
    "Let's start building a dataset for our text analysis. We’ll be using some resources published by ITHAKA, which you might not have heard of, but JSTOR, which you probably have heard of, is one of their organizations. They have a brand new resource called Constellate that allows you to build and analyze datasets and perform text analysis on their materials (32 million documents!). They’ve been developing some really useful resources for text analysis, which are still in sort of a beta mode, and so we’re one of the groups that get to experiment with these.  \n",
    "\n",
    "Point your browser to https://constellate.org/. You’ll see a large search box that says 'build your dataset'.\n",
    "\n",
    "- (1screenshot)\n",
    "\n",
    "Drop a word in there on a topic that interests you and start exploring! \n",
    "  \n",
    "\n",
    "When you click search, you’re going to go into the Dataset Builder with your initial keyword/s filtered.   \n",
    "\n",
    "- (2screenshot with Baseball AND cricket AND “new england” )\n",
    "\n",
    "You'll see filters on the left, and some preliminary visualizations on the right.\n",
    "\n",
    "<i>Hint: Building a coherent dataset is key to any text analysis. If you're just exploring, we recommend building a very tight, subject specific dataset. You can do this with some robust keyword filtering, but you might also want to focus on one or two titles. The publications in Reveal Digital are often very narrow and using one of those publications as a source can provide interesting and informative results.</i>\n",
    "  \n",
    "Experiment with the various filters on the left to narrow the documents on your topic of interest. As you change them, the visualizations on the right will change. (Detailed description of these filters: https://constellate.org/docs/filter-in-the-dataset-builder )   \n",
    "\n",
    "\n",
    "The intent behind the visualizations is to give you a peek into your dataset as you're building it so that you can adjust as you go – but these can stand alone too! You may download any of those visualizations as images or download the data behind them, by selecting the three vertical dots on the top right of each.  You can also create a shareable URL directly to the visualization from that menu.  \n",
    "\n",
    "- (3screenshot of one with the vertical dots for sharing)\n",
    "\n",
    "Try adding some words into the term frequency visualization to see how prevalent they are and how they might change over time.\n",
    "\n",
    "- (4screenshot: Term frequency)\n",
    "\n",
    "At the bottom of the page, you may see some hyperlinked documents from your dataset. Feel free to click through those and check them out!\n",
    "\n",
    "- (5Screenshot:ULRS\n",
    "- (6Screenshot:civil war article)\n",
    "\n",
    "When you’re happy with your configurations and want to save your dataset, go up to the top and select “Build” and “confirm”.   \n",
    "\n",
    "- (7Screenshot: build)\n",
    "\n",
    "You'll see the page changed! You are now looking at your Dataset Dashboard. This is where all the datasets you have created will live. This is going to save your search and give it a unique identifier, so you can get back to it again easily and share it with others.  \n",
    "\n",
    "- (8screenshot: datasetID)\n",
    "\n",
    "Your dataset may take some time to build, especially if it's large.\n",
    "\n",
    "**If you want to use your dataset in the text analysis lesson in this interactive book, you'll want to keep that tab open and/or copy/paster your dataset ID somewhere handy**\n",
    "\n",
    "\n",
    "(Optional/later) Log in.  You have a couple of options under that Login button at the top right. Why? \n",
    "\n",
    "\n",
    "Work with bigger datasets: If you look at the very top right of your webpage, does it say “Log in through your institution”?  If so, click the Log in button and choose “Find your Institution to increase access”.  You can then use the JSTOR institution finder to connect to your institution’s network.  If your institution participates in Constellate (as Northeastern does currently), you’ll now be able to work with datasets of up to 50,000 items. \n",
    "\n",
    "\n",
    "Save your dashboard across devices: By default, information about your datasets is being stored in a cookie in your browser.  If you create a user account and log-in, your dashboard and dataset information will be saved to the Constellate database and you’ll have access to the same dashboard from any device (as a bonus, you can use that same account to do some extra stuff over on JSTOR, too.) \n",
    "\n",
    " \n",
    "\n",
    "**More resources** \n",
    "\n",
    "https://constellate.org/docs/user-quick-start \n",
    "\n",
    "https://constellate.org/docs/all-about-visualizations\n",
    "\n"
   ]
  },
  {
   "cell_type": "code",
   "execution_count": null,
   "metadata": {},
   "outputs": [],
   "source": []
  }
 ],
 "metadata": {
  "kernelspec": {
   "display_name": "Python 3",
   "language": "python",
   "name": "python3"
  },
  "language_info": {
   "codemirror_mode": {
    "name": "ipython",
    "version": 3
   },
   "file_extension": ".py",
   "mimetype": "text/x-python",
   "name": "python",
   "nbconvert_exporter": "python",
   "pygments_lexer": "ipython3",
   "version": "3.8.3"
  }
 },
 "nbformat": 4,
 "nbformat_minor": 4
}

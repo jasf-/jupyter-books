{
 "cells": [
  {
   "cell_type": "markdown",
   "id": "1415c8d8",
   "metadata": {},
   "source": [
    "<img align=\"left\" src=\"https://ithaka-labs.s3.amazonaws.com/static-files/images/tdm/tdmdocs/CC_BY.png\"><br/>\n",
    "\n",
    "Adapted by [Kate Kryder](https://library.northeastern.edu/about/library-staff-directory/kate-kryder) from two notebooks created by [Nathan Kelber](http://nkelber.com) and Ted Lawless for [JSTOR Labs](https://labs.jstor.org/) under [Creative Commons CC BY License](https://creativecommons.org/licenses/by/4.0/).<br/> See [here](https://docs.tdm-pilot.org/tag/beginner-lessons/) for the original versions. Some content was also adapted from notebooks created by [Sarah Connell](https://library.northeastern.edu/about/library-staff-directory/sarah-connell) and [Jen Ferguson](https://library.northeastern.edu/about/library-staff-directory/jen-ferguson) for earlier versions of this workshop.<br />\n",
    "___"
   ]
  },
  {
   "cell_type": "markdown",
   "id": "66df306f",
   "metadata": {},
   "source": [
    "# Welcome to your first Jupyter notebook!\n",
    "You are currently looking at a document in an online tool called [Jupyter Notebooks](https://constellate.org/docs/key-terms/#the-jupyter-notebook).\n",
    "\n",
    "This document is called a \"notebook\" and contains blocks of text, images, and code that you can interact with.\n",
    "\n",
    "Any time you open a notebook, you will be working on your own temporary copy that you can edit without affecting the original or anyone else's work. So please feel free to press buttons and edit and delete things without fear. You can always close and re-open this document if you need to start over.\n",
    "\n",
    "## Why are we using Jupyter Notebooks?\n",
    "There are two reasons we are using notebooks for this workshop:\n",
    "1. **They allow you to write code immediately.**<br/> A notebook is like a virtual computer that is ready for you to write and run code in immediately. This means you can start coding without having to install the programming language (in our case Python) or a program to write the language in (an \"Integrated Development Environment\" or \"IDE\" such as Visual Studio) on your own computer.\n",
    "<br/><br/>\n",
    "2. **They look prettier than raw code.** <br/> Jupyter Notebooks combine text, images, and code so that the document you are working in looks more like a website than raw code. This makes the code easier to annotate and to follow and learn from. Here is a comparison of the same code and comments in a Jupyter Notebook and in raw code:\n",
    "<br/><br/>\n",
    "<table>\n",
    "    <tr>\n",
    "        <td style=\"text-align:center; background-color:white; font-weight:bold\">Jupyter Notebook</td>\n",
    "        <td style=\"text-align:center; background-color:white; font-weight:bold\">Raw Code</td>\n",
    "    </tr>\n",
    "    <tr>\n",
    "        <td><img src=\"Images/Screenshot_1_Jupyter.png\" width=400/></td>\n",
    "        <td><img src=\"Images/Screenshot_1_RawCode.png\" width=400/></td>\n",
    "    </tr>\n",
    "</table>"
   ]
  },
  {
   "cell_type": "markdown",
   "id": "f20ecf62",
   "metadata": {},
   "source": [
    "## What am I looking at?\n",
    "There are two parts to a notebook:\n",
    "1. Document controls\n",
    "1. Document content, which is made up of components called \"cells\"\n",
    "\n",
    "<img style=\"margin-left:50px\" src=\"Images/Screenshot_2_parts.png\" width=\"600px\"/>"
   ]
  },
  {
   "cell_type": "markdown",
   "id": "e4802210",
   "metadata": {},
   "source": [
    "## What are cells?\n",
    "Similar to the way a word document is composed of paragraphs, Jupyter notebooks are composed of [cells](https://docs.tdm-pilot.org/key-terms/#cell) that contain different kinds of content. There are two types of cells:\n",
    "\n",
    "1. [Markdown Cells](https://docs.tdm-pilot.org/key-terms/#markdown-cell) — Contain text and images.\n",
    "2. [Code Cells](https://docs.tdm-pilot.org/key-terms/#code-cell) — Contain code that you can run.\n",
    "\n",
    "\n",
    "The text you are reading right now is in a Markdown cell. If you were to edit it, you would see that it is written in \"Markdown,\" a shorthand writing system that allows you to format text to look like a website without having to write HTML. Here is an example of some Markdown and its output: \n",
    "<table>\n",
    "    <tr>\n",
    "        <td style=\"text-align:center; background:white; font-weight:bold\">Markdown</td>\n",
    "        <td style=\"background:white\"></td>\n",
    "        <td style=\"text-align:center; background:white; font-weight:bold\">Output</td>\n",
    "    </tr>\n",
    "    <tr>\n",
    "        <td style=\"text-align:left\"><p># This makes a header\n",
    "            <br/>This makes regular text.\n",
    "            <br/>\n",
    "            <br/>* this makes a bulleted list\n",
    "            <br/>* this makes a bulleted list\n",
    "            <br/>* this makes a bulleted list\n",
    "            </p></td>\n",
    "        <td style=\"background:white\"></td>\n",
    "        <td style=\"text-align:left\">\n",
    "            <p style=\"font-size:185.7%; font-weight:bold;\">This makes a header</p>\n",
    "            This makes regular text.\n",
    "            <ul>\n",
    "                <li>this makes a bulleted list</li>\n",
    "                <li>this makes a bulleted list</li>\n",
    "                <li>this makes a bulleted list</li>\n",
    "            </ul>\n",
    "        </td>\n",
    "    </tr>\n",
    "</table>\n",
    "\n",
    "Below is a a code cell. You can recognize it by the pair of brackets and a colon on the left, like so ``[ ]:``"
   ]
  },
  {
   "cell_type": "code",
   "execution_count": null,
   "id": "a986b85e",
   "metadata": {},
   "outputs": [],
   "source": [
    "# This is a code cell "
   ]
  },
  {
   "cell_type": "markdown",
   "id": "8dac7539",
   "metadata": {},
   "source": [
    "## How do I interact with cells?\n",
    "The buttons at the top of the Jupyter Notebook are controls that allow you to add, remove, move, run, or change the type of cells. To get familiar with the controls, let's go through a series of exercises.\n",
    "\n",
    "### Exercise 1: Run a code cell.\n",
    "To run the code cell below, click on the cell and then press the \"Run cell\" button (<img style=\"display:inline-block\" src=\"Images/Screenshot_Buttons_Run.png\" width=\"40px\"/>)."
   ]
  },
  {
   "cell_type": "code",
   "execution_count": null,
   "id": "60dd7d87",
   "metadata": {},
   "outputs": [],
   "source": [
    "1 + 1"
   ]
  },
  {
   "cell_type": "markdown",
   "id": "b18f41c0",
   "metadata": {},
   "source": [
    "When you have run the cell, you should see an output appear like so:\n",
    "\n",
    "<img style=\"margin-left:50px\" src=\"Images/Screenshot_3_run.png\" width=\"500px\"/>\n",
    "\n",
    "You will also see the brackets on the left change from being empty, to containing a number. This tells you that the cell has successfully been run. Brackets will give you information about a code cell, like so:\n",
    "* ``[ ]:`` never been run\n",
    "* ``[*]:`` still running\n",
    "* ``[1]:`` was run 1st of all the cells in the document\n",
    "* ``[7]:`` was run 7th of all the cells in the document\n",
    "\n",
    "If you run this code cell a second time, you will see the brackets change to ``[2]:``. The number will always update to reflect the last time you ran the cell.\n",
    "\n",
    "Running code cells is something you will do a lot of during this workshop. You can either press the run button each time, or you can use the following keyboard shortcuts:\n",
    "* Windows: press Ctrl + Enter\n",
    "* Mac: press Shift + Return"
   ]
  },
  {
   "cell_type": "markdown",
   "id": "a42c1c00",
   "metadata": {},
   "source": [
    "### Exercise 2: Edit a Markdown cell.\n",
    "To practice editing a Markdown cell, double-click on the Markdown cell below:"
   ]
  },
  {
   "cell_type": "markdown",
   "id": "480726d3",
   "metadata": {},
   "source": [
    "> ### Double-click on this markdown cell\n",
    "This text looks a little different than the other text on this page because it uses the \">\" block-quote markdown symbol."
   ]
  },
  {
   "cell_type": "markdown",
   "id": "60de8425",
   "metadata": {},
   "source": [
    "When you have double-clicked the cell, you should see something like this:\n",
    "\n",
    "<img style=\"margin-left:50px\" src=\"Images/Screenshot_4_Markdown.png\" width=\"600px\"/>\n",
    "\n",
    "What you are seeing is:\n",
    "1. **Markdown.** — This gray box is where you can edit the Markdown by clicking in the box and then typing.\n",
    "1. **Output.** — This is a preview of what the Markdown will actually look like.\n",
    "\n",
    "At any time, you can make the gray edit box disappear by pressing the \"Run cell\" button (<img style=\"display:inline-block\" src=\"Images/Screenshot_Buttons_Run.png\" width=\"40px\"/>). You will then only see the output.\n",
    "\n",
    "If you would like to learn more about Markdown, check out this quick [Markdown guide](https://www.markdownguide.org/cheat-sheet/) or this longer [Markdown tutorial](https://www.markdowntutorial.com/)."
   ]
  },
  {
   "cell_type": "markdown",
   "id": "bc53c711",
   "metadata": {},
   "source": [
    "### Exercise 3: Add a cell.\n",
    "To add a cell, click on this cell and then click on the \"Insert cell bellow\" button (<img style=\"display:inline-block\" src=\"Images/Screenshot_Buttons_Add.png\" width=\"30px\"/>). This should add a cell below this one, between these lines:\n",
    "___"
   ]
  },
  {
   "cell_type": "markdown",
   "id": "f8ae1283",
   "metadata": {},
   "source": [
    "___\n",
    "When you have added a cell, you should see a blank code cell like this:\n",
    "\n",
    "<img style=\"margin-left:50px\" src=\"Images/Screenshot_3_add.png\" width=\"500px\"/>\n",
    "\n",
    "The default type of cell is a code cell. You can change the type at any time by click on the the \"Code\" drop-down (<img style=\"display:inline-block\" src=\"Images/Screenshot_Buttons_Code.png\" width=\"80px\"/>) and changing it to \"Markdown\" (<img style=\"display:inline-block; margin-top:0;\" src=\"Images/Screenshot_Buttons_Markdown.png\" width=\"80px\"/>)."
   ]
  },
  {
   "cell_type": "markdown",
   "id": "6e9a3dbc",
   "metadata": {},
   "source": [
    "### Exercise 4: Delete a cell.\n",
    "To delete a cell, click on one of the practice cells below and press the \"Cut selected cells\" button (<img style=\"display:inline-block\" src=\"Images/Screenshot_Buttons_Delete.png\" width=\"30px\"/>)."
   ]
  },
  {
   "cell_type": "code",
   "execution_count": null,
   "id": "64f53410",
   "metadata": {},
   "outputs": [],
   "source": [
    "# delete me!"
   ]
  },
  {
   "cell_type": "code",
   "execution_count": null,
   "id": "0e647dbc",
   "metadata": {},
   "outputs": [],
   "source": [
    "# delete me!"
   ]
  },
  {
   "cell_type": "code",
   "execution_count": null,
   "id": "b5026c60",
   "metadata": {},
   "outputs": [],
   "source": [
    "# delete me!"
   ]
  },
  {
   "cell_type": "markdown",
   "id": "41885e67",
   "metadata": {},
   "source": [
    "You should see that cell disappear."
   ]
  },
  {
   "cell_type": "markdown",
   "id": "6a592298",
   "metadata": {},
   "source": [
    "### Exercise 5: Restart this notebook.\n",
    "To restart this notebook, click the \"Restart the kernel\" button (<img style=\"display:inline-block\" src=\"Images/Screenshot_Buttons_Restart.png\" width=\"30px\"/>).\n",
    "\n",
    "Then, click \"Restart\" on the pop-up window that appears.\n",
    "\n",
    "<img style=\"margin-left:50px\" src=\"Images/Screenshot_5_Restart.png\" width=\"500px\"/>\n",
    "\n",
    "This will restart the notebook."
   ]
  },
  {
   "cell_type": "markdown",
   "id": "ef5364da",
   "metadata": {},
   "source": [
    "# Lesson Complete!\n",
    "Next, we'll look at [Getting started with Python](./Getting%20Started%20with%20Python.ipynb)!\n",
    "\n",
    "If you're curious about how we have set this notebook up, read on:\n",
    "\n",
    "* **[Binder](https://binder.constellate.org/)** is the *environment* we are using to access (\"run\") our Jupyter Notebooks inside a browser. It's kind of like a separate computer in the cloud that makes all of tools we need to use in Jupyter Notebooks work. We're using [Contellate's](https://constellate.org/) Binder for this session, but anyone can [create their own Binder](https://mybinder.org/).\n",
    "\n",
    "\n",
    "* We use **[Github](https://github.com/jasf-/tdm-nbs)** to store the Jupyter Notebooks (.ipynb files) for this session. Like any other computer, Binder will power down after a while--basically after a certain period of inactivity. So we need a place to make our Jupyter Notebooks available, and tell Binder where to find them the next time we start up a Binder session to interact with our notebooks."
   ]
  }
 ],
 "metadata": {
  "kernelspec": {
   "display_name": "Python 3 (ipykernel)",
   "language": "python",
   "name": "python3"
  },
  "language_info": {
   "codemirror_mode": {
    "name": "ipython",
    "version": 3
   },
   "file_extension": ".py",
   "mimetype": "text/x-python",
   "name": "python",
   "nbconvert_exporter": "python",
   "pygments_lexer": "ipython3",
   "version": "3.9.2"
  },
  "toc": {
   "base_numbering": 1,
   "nav_menu": {},
   "number_sections": false,
   "sideBar": false,
   "skip_h1_title": true,
   "title_cell": "Table of Contents",
   "title_sidebar": "Contents",
   "toc_cell": false,
   "toc_position": {
    "height": "calc(100% - 180px)",
    "left": "10px",
    "top": "150px",
    "width": "165px"
   },
   "toc_section_display": true,
   "toc_window_display": false
  }
 },
 "nbformat": 4,
 "nbformat_minor": 5
}

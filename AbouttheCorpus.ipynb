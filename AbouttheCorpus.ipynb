{
 "cells": [
  {
   "cell_type": "markdown",
   "metadata": {},
   "source": [
    "## About Constellate.org\n",
    "\n",
    "What will I be searching?\n",
    "\n",
    "* The text mining platform includes all of JSTOR plus the content from those Portico publishers who choose to participate (currently, 30 publishers including John Wiley & Sons, Inc., Project Muse, Thieme Publishing Group, and Hindawi). \n",
    "\n",
    "* By the numbers: All told, the above includes content from 2000+ publishers, 5500+ journals, and 19 million articles\n",
    "\n",
    "* Content from Chronicling America (historic newspapers) and CORD (a COVID-19 collection) has recently been added, and discussions with other providers are underway.\n",
    "\n",
    "\n",
    "Note: Our institution has an agreement with JSTOR/Portico, so we have permission to do this.\n",
    "\n",
    "That slick interface that you used at tdm-pilot.org is mostly intended to give you a peek into what's in your dataset.  For more detailed work, we're going to pull that dataset you generated into a Jupyter Notebook.  \n",
    "\n",
    "**Guess what?  You're using a Jupyter Notebook right now!** More on that in a bit.\n"
   ]
  }
 ],
 "metadata": {
  "kernelspec": {
   "display_name": "Python 3",
   "language": "python",
   "name": "python3"
  },
  "language_info": {
   "codemirror_mode": {
    "name": "ipython",
    "version": 3
   },
   "file_extension": ".py",
   "mimetype": "text/x-python",
   "name": "python",
   "nbconvert_exporter": "python",
   "pygments_lexer": "ipython3",
   "version": "3.8.3"
  },
  "toc": {
   "base_numbering": 1,
   "nav_menu": {},
   "number_sections": true,
   "sideBar": true,
   "skip_h1_title": true,
   "title_cell": "Table of Contents",
   "title_sidebar": "Contents",
   "toc_cell": false,
   "toc_position": {},
   "toc_section_display": true,
   "toc_window_display": false
  }
 },
 "nbformat": 4,
 "nbformat_minor": 4
}
